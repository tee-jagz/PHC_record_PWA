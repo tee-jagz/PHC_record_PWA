{
    "metadata": {
        "kernelspec": {
            "name": "SQL",
            "display_name": "SQL",
            "language": "sql"
        },
        "language_info": {
            "name": "sql",
            "version": ""
        }
    },
    "nbformat_minor": 2,
    "nbformat": 4,
    "cells": [
        {
            "cell_type": "code",
            "source": [
                "-- Create the Patient table\r\n",
                "CREATE TABLE patients (\r\n",
                "    patientId INT PRIMARY KEY IDENTITY(1,1),\r\n",
                "    firstName NVARCHAR(255),\r\n",
                "    lastName NVARCHAR(255),\r\n",
                "    gender NVARCHAR(50),\r\n",
                "    dob DATE,\r\n",
                "    address NVARCHAR(255),\r\n",
                "    phoneNo NVARCHAR(50),\r\n",
                "    email NVARCHAR(255),\r\n",
                "    maritalStatus NVARCHAR(50),\r\n",
                "    occupation NVARCHAR(255),\r\n",
                "    bloodGroup NVARCHAR(10),\r\n",
                "    genotype NVARCHAR(10),\r\n",
                "    nextOfKin NVARCHAR(255),\r\n",
                "    facilityID INT\r\n",
                ");"
            ],
            "metadata": {
                "azdata_cell_guid": "db75741a-4f37-42ac-9759-f1d03aea9d6b",
                "language": "sql",
                "tags": []
            },
            "outputs": [
                {
                    "output_type": "display_data",
                    "data": {
                        "text/html": "Commands completed successfully."
                    },
                    "metadata": {}
                },
                {
                    "output_type": "display_data",
                    "data": {
                        "text/html": "Total execution time: 00:00:00.029"
                    },
                    "metadata": {}
                }
            ],
            "execution_count": 1
        },
        {
            "cell_type": "code",
            "source": [
                "-- Create the Visit table\r\n",
                "CREATE TABLE visits (\r\n",
                "    visitId INT PRIMARY KEY IDENTITY(1,1),\r\n",
                "    patientId INT,\r\n",
                "    doctorId INT,\r\n",
                "    facilityId INT,\r\n",
                "    appointmentDate DATE,\r\n",
                "    appointmentTime TIME,\r\n",
                "    reason NVARCHAR(255),\r\n",
                "    status NVARCHAR(50),\r\n",
                "    conditionId INT,\r\n",
                "    dateOfDiagnosis DATE,\r\n",
                "    dateOfRecovery DATE,\r\n",
                "    visitNotes NVARCHAR(MAX),\r\n",
                "    FOREIGN KEY (patientId) REFERENCES patients(patientId)\r\n",
                ");"
            ],
            "metadata": {
                "language": "sql",
                "azdata_cell_guid": "4520459d-0718-4511-93bf-ad4efffbedfb"
            },
            "outputs": [
                {
                    "output_type": "display_data",
                    "data": {
                        "text/html": "Commands completed successfully."
                    },
                    "metadata": {}
                },
                {
                    "output_type": "display_data",
                    "data": {
                        "text/html": "Total execution time: 00:00:00.012"
                    },
                    "metadata": {}
                }
            ],
            "execution_count": 2
        },
        {
            "cell_type": "code",
            "source": [
                "-- Create the Medical Condition table\r\n",
                "CREATE TABLE medicalConditions (\r\n",
                "    conditionId INT PRIMARY KEY IDENTITY(1,1),\r\n",
                "    name NVARCHAR(255),\r\n",
                "    description NVARCHAR(255),\r\n",
                "    severity NVARCHAR(50),\r\n",
                "    treatment NVARCHAR(255)\r\n",
                ");"
            ],
            "metadata": {
                "language": "sql",
                "azdata_cell_guid": "7a44a32d-36dc-47b8-bbf8-2030bdbb06f9"
            },
            "outputs": [
                {
                    "output_type": "display_data",
                    "data": {
                        "text/html": "Commands completed successfully."
                    },
                    "metadata": {}
                },
                {
                    "output_type": "display_data",
                    "data": {
                        "text/html": "Total execution time: 00:00:00.011"
                    },
                    "metadata": {}
                }
            ],
            "execution_count": 3
        },
        {
            "cell_type": "code",
            "source": [
                "-- Create the Staff table\r\n",
                "CREATE TABLE staff (\r\n",
                "    staffId INT PRIMARY KEY IDENTITY(1,1),\r\n",
                "    username NVARCHAR(255) UNIQUE,\r\n",
                "    password NVARCHAR(255),\r\n",
                "    firstName NVARCHAR(255),\r\n",
                "    lastName NVARCHAR(255),\r\n",
                "    gender NVARCHAR(50),\r\n",
                "    email NVARCHAR(255) UNIQUE,\r\n",
                "    role NVARCHAR(50),\r\n",
                "    facilityID INT\r\n",
                ");"
            ],
            "metadata": {
                "language": "sql",
                "azdata_cell_guid": "7c38e173-fee5-4407-a7a7-c785ecefe06e"
            },
            "outputs": [
                {
                    "output_type": "display_data",
                    "data": {
                        "text/html": "Commands completed successfully."
                    },
                    "metadata": {}
                },
                {
                    "output_type": "display_data",
                    "data": {
                        "text/html": "Total execution time: 00:00:00.011"
                    },
                    "metadata": {}
                }
            ],
            "execution_count": 4
        },
        {
            "cell_type": "code",
            "source": [
                "-- Create the Facility table\r\n",
                "CREATE TABLE facility (\r\n",
                "    facilityId INT PRIMARY KEY IDENTITY(1,1),\r\n",
                "    Name NVARCHAR(255),\r\n",
                "    State NVARCHAR(255),\r\n",
                "    LGA NVARCHAR(255),\r\n",
                "    Street NVARCHAR(255),\r\n",
                "    Email NVARCHAR(255)\r\n",
                ");"
            ],
            "metadata": {
                "language": "sql",
                "azdata_cell_guid": "e7a85cda-c130-44b1-aacb-27d411547a89"
            },
            "outputs": [
                {
                    "output_type": "display_data",
                    "data": {
                        "text/html": "Commands completed successfully."
                    },
                    "metadata": {}
                },
                {
                    "output_type": "display_data",
                    "data": {
                        "text/html": "Total execution time: 00:00:00.031"
                    },
                    "metadata": {}
                }
            ],
            "execution_count": 5
        }
    ]
}